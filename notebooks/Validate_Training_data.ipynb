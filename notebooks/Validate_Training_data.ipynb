{
 "cells": [
  {
   "cell_type": "code",
   "execution_count": 5,
   "id": "238fedad-098a-4699-b07f-fca9faaa4ad1",
   "metadata": {},
   "outputs": [
    {
     "data": {
      "text/plain": [
       "True"
      ]
     },
     "execution_count": 5,
     "metadata": {},
     "output_type": "execute_result"
    }
   ],
   "source": [
    "import json\n",
    "\n",
    "def validate_jsonl(file_path):\n",
    "    with open(file_path, 'r', encoding='utf-8') as f:\n",
    "        for line_num, line in enumerate(f, 1):\n",
    "            line = line.strip()\n",
    "            if not line:\n",
    "                continue\n",
    "            try:\n",
    "                json.loads(line)\n",
    "            except json.JSONDecodeError as e:\n",
    "                print(f\"Error on line {line_num}:\")\n",
    "                print(f\"Error details: {str(e)}\")\n",
    "                print(f\"Line content: {line[:100]}...\")\n",
    "                return False\n",
    "    return True\n",
    "\n",
    "validate_jsonl('./training_data/training_data.jsonl')"
   ]
  },
  {
   "cell_type": "code",
   "execution_count": null,
   "id": "83d46c23-eefc-4ee2-8334-86e528bde6ea",
   "metadata": {},
   "outputs": [],
   "source": []
  }
 ],
 "metadata": {
  "kernelspec": {
   "display_name": "news_env",
   "language": "python",
   "name": "news_env"
  },
  "language_info": {
   "codemirror_mode": {
    "name": "ipython",
    "version": 3
   },
   "file_extension": ".py",
   "mimetype": "text/x-python",
   "name": "python",
   "nbconvert_exporter": "python",
   "pygments_lexer": "ipython3",
   "version": "3.10.9"
  }
 },
 "nbformat": 4,
 "nbformat_minor": 5
}
